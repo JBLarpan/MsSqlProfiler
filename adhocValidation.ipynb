{
 "cells": [
  {
   "cell_type": "code",
   "execution_count": 1,
   "id": "79a78722-cf31-44a1-8101-ad799bbb8454",
   "metadata": {
    "tags": []
   },
   "outputs": [
    {
     "name": "stdout",
     "output_type": "stream",
     "text": [
      "Requirement already satisfied: email_validator in c:\\users\\arbanerj_a\\appdata\\local\\anaconda3\\lib\\site-packages (2.1.1)\n",
      "Requirement already satisfied: dnspython>=2.0.0 in c:\\users\\arbanerj_a\\appdata\\local\\anaconda3\\lib\\site-packages (from email_validator) (2.6.1)\n",
      "Requirement already satisfied: idna>=2.0.0 in c:\\users\\arbanerj_a\\appdata\\local\\anaconda3\\lib\\site-packages (from email_validator) (3.4)\n"
     ]
    }
   ],
   "source": [
    "!pip install email_validator"
   ]
  },
  {
   "cell_type": "code",
   "execution_count": 2,
   "id": "fe7bba40-2110-4ff2-8b77-d987f4129e61",
   "metadata": {},
   "outputs": [],
   "source": [
    "#import libraries\n",
    "from datetime import date, datetime\n",
    "import requests\n",
    "from email_validator import validate_email\n",
    "import pandas as pd\n",
    "import getpass\n",
    "import pyodbc"
   ]
  },
  {
   "cell_type": "code",
   "execution_count": 3,
   "id": "38dc3882-1e99-442c-b808-bb39dd4b9536",
   "metadata": {},
   "outputs": [
    {
     "name": "stdin",
     "output_type": "stream",
     "text": [
      " ········\n"
     ]
    },
    {
     "name": "stdout",
     "output_type": "stream",
     "text": [
      "connected ...\n"
     ]
    }
   ],
   "source": [
    "#create connection \n",
    "# Replace the input connection string with your actual connection string\n",
    "connection_string = 'Server=tcp:bbyc-sqlsv-prod-database-stg-005.database.windows.net,1433;Initial Catalog=bbyc-sqldb-imidiapf-stg-001;Persist Security Info=False;MultipleActiveResultSets=False;Encrypt=True;TrustServerCertificate=False;'\n",
    "\n",
    "# Replace 'your_username' and 'your_password' with your actual AD username and password\n",
    "ad_username = 'arbanerj@bbyfs.ca' #change it to your username \n",
    "ad_password = getpass.getpass() #this will ask for your password\n",
    "\n",
    "modified_connection_string = f'DRIVER={{ODBC Driver 18 for SQL Server}};SERVER={connection_string.split(\";\")[0].split(\"=\")[1]};DATABASE={connection_string.split(\";\")[1].split(\"=\")[1]};Authentication=ActiveDirectoryPassword;UID={ad_username};PWD={ad_password};'\n",
    "\n",
    "# Establish the connection\n",
    "connection = pyodbc.connect(modified_connection_string)\n",
    "print('connected ...')"
   ]
  },
  {
   "cell_type": "code",
   "execution_count": 4,
   "id": "17745971-2856-41f2-9655-6405e0460dba",
   "metadata": {},
   "outputs": [],
   "source": [
    "class EmailValidator:\n",
    "  def __init__(\n",
    "        self,\n",
    "        connection,\n",
    "        params):\n",
    "        self.params = params\n",
    "        self.connection = connection\n",
    "        self.database = params['DATABASE_NAME']\n",
    "        self.schema = params['SCHEMA_NAME']\n",
    "        self.table = params['TABLE_NAME']\n",
    "        self.column = params['COLUMN_NAME']\n",
    "        self.where = params['ISSCURRENT']\n",
    "        self.drive_path = params['DRIVE_PATH']\n",
    "        self.who = params['WHO']\n",
    "        self.when = params['WHEN']\n",
    "        self.location  = params['WHERE']\n",
    "        self.how =  params['HOW']\n",
    "\n",
    "  def getTotalRecordCount(self):\n",
    "        record_count_sql = (\n",
    "            f\"SELECT COUNT(*) FROM \\\n",
    "                            {self.schema}.{self.table}\"\n",
    "        )\n",
    "        record_count = self.connection.cursor().execute(record_count_sql).fetchall()\n",
    "        return record_count[0][0]\n",
    "\n",
    "  def getTotalNotNullOrBlankEmail(self):\n",
    "        not_null_count_sql = f\"SELECT COUNT(*) FROM \\\n",
    "                             {self.schema}.{self.table} \\\n",
    "                             WHERE {self.column} IS NOT NULL AND LEN(LTRIM(RTRIM({self.column}))) > 0 \"\n",
    "        not_null_count = (\n",
    "                self.connection.cursor().execute(not_null_count_sql).fetchall()\n",
    "            )\n",
    "        return not_null_count[0][0]\n",
    "\n",
    "  def getCurrentDateTime(self):\n",
    "        current_time_sql = \"SELECT GETDATE();\"\n",
    "        current_time = self.connection.cursor().execute(current_time_sql).fetchall()\n",
    "        return current_time[0][0]\n",
    "\n",
    "  def validInvalidEmailCount(self):\n",
    "        email_fetch_sql = f\"SELECT {self.column} FROM \\\n",
    "                                  {self.schema}.{self.table} \\\n",
    "                                  WHERE {self.column} IS NOT NULL AND LEN(LTRIM(RTRIM({self.column}))) > 0 \"\n",
    "        emails = self.connection.cursor().execute(email_fetch_sql).fetchall()\n",
    "        vailid_email_list= []\n",
    "        invalid_email_list= []\n",
    "        valid_email_count= 0\n",
    "        invalid_email_count= 0\n",
    "        count = 0\n",
    "        for email in emails:\n",
    "          try:\n",
    "            if (len(email[0].split(\".\")[-1])) >1 and (len(email[0].split(\".\")[-1])) <=11 and (len(email[0].split(\"@\")[0])) >=2 : #here top level domain considerd 2-6 character long. like .com,.gov,.in,.daomain\n",
    "             validate_email(email[0].strip(), allow_smtputf8=False, check_deliverability=False)\n",
    "             vailid_email_list.append(email[0])\n",
    "             valid_email_count = valid_email_count + 1\n",
    "            else:\n",
    "             invalid_email_list.append(email[0])\n",
    "             invalid_email_count = invalid_email_count + 1\n",
    "          except:\n",
    "            invalid_email_list.append(email[0])\n",
    "            invalid_email_count = invalid_email_count + 1\n",
    "\n",
    "        return vailid_email_list,invalid_email_list,valid_email_count,invalid_email_count\n",
    "\n",
    "  def validInnvalidToCsv(self,vailid_email_list,invalid_email_list ):\n",
    "    df = pd.DataFrame.from_dict({'Sample_Of_Valid_Email_IDs': vailid_email_list , 'Sample_Of_InValid_Email_IDs': invalid_email_list }, orient='index')\n",
    "    df= df.transpose()\n",
    "    df.to_csv(f'{self.drive_path}\\\\{self.database}_{self.schema}_{self.table}_{self.column}_VALID_INVALID_EMAIL.csv',index = False)\n",
    "    return df\n",
    "\n",
    "  def emailDomainGroupBy(self,df):\n",
    "    df2 = pd.DataFrame(df['Sample_Of_Valid_Email_IDs'].str.strip().split('@',1).tolist(),columns = ['Name','Domain'])\n",
    "    df3 = df2.groupby('Domain').count()\n",
    "    df3.columns = ['Count']\n",
    "    df3 = df3.sort_values(by='Count', ascending=False)\n",
    "    df3.head(20).to_csv(f'{self.drive_path}\\\\{self.database}_{self.schema}_{self.table}_{self.column}_VALID_EMAIL_DOMAIN_COUNT.csv')\n",
    "\n",
    "  def generalInfo(self,current_time,total_number_of_record,total_number_of_empty_email,percent_of_empty_email,valid_email_count,percent_of_valid_email_count,invalid_email_count,percent_of_invalid_email_count):\n",
    "        print('general info....')\n",
    "        datasummary = []\n",
    "        datasummary.append(\n",
    "            {\n",
    "                \"DATA SET NAME\": self.table,\n",
    "                \"COLUMN NAME\": self.column,\n",
    "                \"AS OF DATE\": current_time,\n",
    "                \"RECORD COUNT\": total_number_of_record,\n",
    "                \"NUMBER OF BLANK EMAIL \": str(total_number_of_empty_email)+'('+ str(round(percent_of_empty_email,4))+')%',\n",
    "                \"NUMBER OF INVALID EMAIL (APPROX)\": str(invalid_email_count)+'('+ str(round(percent_of_invalid_email_count,4))+')%',\n",
    "                \"NUMBER OF VALID EMAIL (APPROX)\": str(valid_email_count)+'('+ str(round(percent_of_valid_email_count,4))+')%',\n",
    "                \"WHO\": self.who,\n",
    "                \"WHEN\": self.when,\n",
    "                \"WHERE\": self.location,\n",
    "                \"HOW\": self.how\n",
    "            }\n",
    "        )\n",
    "        data_frame = pd.DataFrame(datasummary)\n",
    "        data_frame_transpose = data_frame .T.reset_index().rename(columns={'index': 'ATTRIBUTE', 0: 'VALUE'})\n",
    "        gdrive_path = (\n",
    "            f\"{self.drive_path}\\\\{self.database}_{self.schema}_{self.table}_{self.column}_EMAIL_SUMMARY.csv\"\n",
    "        )\n",
    "        data_frame_transpose.to_csv(gdrive_path, index=False)\n",
    "\n",
    "\n",
    "  def getSummary(self):\n",
    "    total_number_of_record = self.getTotalRecordCount()\n",
    "    total_number_of_empty_email = total_number_of_record - self.getTotalNotNullOrBlankEmail()\n",
    "    print(total_number_of_empty_email)\n",
    "    percent_of_empty_email = (total_number_of_empty_email / total_number_of_record)*100\n",
    "    vailid_email_list,invalid_email_list,valid_email_count,invalid_email_count = self.validInvalidEmailCount()\n",
    "    percent_of_valid_email_count = (valid_email_count / total_number_of_record)*100\n",
    "    percent_of_invalid_email_count = (invalid_email_count / total_number_of_record)*100\n",
    "    df = self.validInnvalidToCsv(vailid_email_list,invalid_email_list)\n",
    "    #self.emailDomainGroupBy(df)\n",
    "    current_time = self.getCurrentDateTime()\n",
    "    self.generalInfo(current_time,total_number_of_record,total_number_of_empty_email,percent_of_empty_email,valid_email_count,percent_of_valid_email_count,invalid_email_count,percent_of_invalid_email_count)\n"
   ]
  },
  {
   "cell_type": "code",
   "execution_count": 5,
   "id": "576ced67-8d94-4e4c-9396-f49024014b3c",
   "metadata": {},
   "outputs": [
    {
     "name": "stdout",
     "output_type": "stream",
     "text": [
      "2024-03-20 23:53:29-0700\n"
     ]
    }
   ],
   "source": [
    "#get datetime of this machine\n",
    "from datetime import datetime, timezone\n",
    "\n",
    "def getDateTimeAsString():\n",
    "  \"\"\"\n",
    "  This function gets the current date and time as a string with the timezone information.\n",
    "\n",
    "  Returns:\n",
    "      str: The current date and time as a string in the format YYYY-MM-DD HH:MM:SS with timezone offset (e.g., 2023-11-19 16:02:21+05:30).\n",
    "  \"\"\"\n",
    "  now = datetime.now(timezone.utc)\n",
    "  # Convert to local timezone for display\n",
    "  local_time = now.astimezone()\n",
    "  date_time_string = local_time.strftime(\"%Y-%m-%d %H:%M:%S%z\")\n",
    "  return date_time_string\n",
    "\n",
    "# Print the current date and time with timezone\n",
    "print(getDateTimeAsString())"
   ]
  },
  {
   "cell_type": "code",
   "execution_count": 6,
   "id": "4f3fef9b-ec52-44fa-a1bf-4ab2c87e3fb3",
   "metadata": {
    "tags": []
   },
   "outputs": [],
   "source": [
    "params = {\n",
    "            'SYSTEM_NAME': 'Accounts', # CHANGE THIS ONE AS PER REQUIRMENT\n",
    "            'DATABASE_NAME': 'bbyc-sqldb-imidiapf-stg-001', # CHANGE THIS ONE AS PER REQUIRMENT\n",
    "            'SCHEMA_NAME': 'temp',  # CHANGE THIS ONE AS PER REQUIRMENT\n",
    "            'TABLE_NAME': 'temp_UserObject',  # CHANGE THIS ONE AS PER REQUIRMENT\n",
    "            'COLUMN_NAME': 'u_email_address',\n",
    "            'ISSCURRENT': \"No filter has been added\",\n",
    "            'DRIVE_PATH': 'C:\\\\Users\\\\arbanerj_a\\\\',  # CHANGE THIS ONE AS PER REQUIRMENT\n",
    "            'WHO': 'Arpan Banerjee', # CHANGE THIS ONE AS PER REQUIRMENT\n",
    "            'WHEN': getDateTimeAsString(),\n",
    "            'WHERE': 'Kolkata-INDIA', # CHANGE THIS ONE AS PER REQUIRMENT\n",
    "            'HOW': '1. Python Snowflake Connecto and Python email-validator libray has been used \\n 2. Here is the link to the documentation https://pypi.org/project/email-validator/ \\n 3. allow_smtputf8 set to False which will exclude internationalized forms, more in the above link. \\n 4. Same as general profile we have is ISCURRENT to TRUE'\n",
    "}"
   ]
  },
  {
   "cell_type": "code",
   "execution_count": 7,
   "id": "5bb7e1b8-28fb-4c58-8c2e-c92866995b85",
   "metadata": {
    "tags": []
   },
   "outputs": [
    {
     "name": "stdout",
     "output_type": "stream",
     "text": [
      "0\n",
      "general info....\n"
     ]
    }
   ],
   "source": [
    "email = EmailValidator(connection,params)\n",
    "email.getSummary()"
   ]
  },
  {
   "cell_type": "code",
   "execution_count": null,
   "id": "99a98423-173b-46b8-8acf-b4089b7e6793",
   "metadata": {
    "tags": []
   },
   "outputs": [],
   "source": [
    "connection.close()"
   ]
  },
  {
   "cell_type": "code",
   "execution_count": null,
   "id": "a5f34c41-9b19-43ba-b7c1-ce8361a52ca1",
   "metadata": {
    "tags": []
   },
   "outputs": [],
   "source": [
    "try:\n",
    "    validate_email('LRDALESSIO@ROGERS.COM    '.strip(), allow_smtputf8=False, check_deliverability=False)\n",
    "    print('is this valid?')\n",
    "except:\n",
    "    print('not an valid one')\n",
    "    "
   ]
  },
  {
   "cell_type": "code",
   "execution_count": null,
   "id": "84d8cd7d-b19c-4d19-a74a-1489326712f2",
   "metadata": {
    "tags": []
   },
   "outputs": [],
   "source": [
    "email[0] = 'X@C.COM'\n",
    "if (len(email[0].split(\".\")[-1])) >1 and (len(email[0].split(\".\")[-1])) <=11 and (len(email[0].split(\"@\")[0])) <=2 and not(email[0].split(\"@\")[0]).isdigit():    try\n",
    "      validate_email(email[0], allow_smtputf8=False, check_deliverability=False)\n",
    "      print('is this valid?')\n",
    "else: \n",
    "    print('not even enterd ')"
   ]
  },
  {
   "cell_type": "code",
   "execution_count": null,
   "id": "16802a6d-599b-418f-a9df-bab1a9b7cfad",
   "metadata": {
    "tags": []
   },
   "outputs": [],
   "source": [
    "ema= 'X@C.COM'\n",
    "(len(ema.split(\"@\")[0])) >=2 and not(ema.split(\"@\")[0]).isdigit()"
   ]
  },
  {
   "cell_type": "code",
   "execution_count": null,
   "id": "08ddf86b-0453-4943-887f-1b09ad066a92",
   "metadata": {
    "tags": []
   },
   "outputs": [],
   "source": [
    "ema = '123@C.COM'\n",
    "if (len(ema.split(\".\")[-1])) >1 and (len(ema.split(\".\")[-1])) <=11 and (len(ema.split(\"@\")[0])) >=2 and (not(ema.split(\"@\")[0]).isdigit()):    \n",
    "      validate_email(ema, allow_smtputf8=False, check_deliverability=False)\n",
    "      print('is this valid?')\n",
    "else: \n",
    "    print('not even enterd ')"
   ]
  },
  {
   "cell_type": "code",
   "execution_count": null,
   "id": "e9a6b698-9b18-4aff-b95a-f573874cf390",
   "metadata": {
    "tags": []
   },
   "outputs": [],
   "source": [
    "!pip install phonenumbers"
   ]
  },
  {
   "cell_type": "code",
   "execution_count": 20,
   "id": "f6d4677d-57ff-4ae2-bca4-124837c09278",
   "metadata": {
    "tags": []
   },
   "outputs": [],
   "source": [
    "import re\n",
    "import pandas as pd\n",
    "\n",
    "def generate_pattern(phone_number):\n",
    "    pattern = \"\"\n",
    "    \n",
    "    for char in phone_number:\n",
    "        if char.isdigit():\n",
    "            pattern += 'D'  # replace numeric value with D\n",
    "        elif char.isalpha():\n",
    "            pattern += 'A'  # replace alphabet with A\n",
    "        elif char.isspace():\n",
    "            pattern += ' '\n",
    "        else:\n",
    "            pattern += 'S'  # replace all other with S\n",
    "    \n",
    "    return pattern\n",
    "\n",
    "\n"
   ]
  },
  {
   "cell_type": "code",
   "execution_count": 25,
   "id": "bac0d3b1-a8df-4977-811c-25aff4ae0451",
   "metadata": {
    "tags": []
   },
   "outputs": [
    {
     "name": "stdout",
     "output_type": "stream",
     "text": [
      "    Pattern    Count\n",
      "0   ADA DAD  2982872\n",
      "1    ADADAD    14702\n",
      "2  ADA  DAD       14\n",
      "3   ADAD AD        1\n",
      "4  AD A DAD        1\n",
      "5     ADADA        1\n"
     ]
    }
   ],
   "source": [
    "pattern_counts = {}\n",
    "phone_sql = f\"SELECT  u_postal_code FROM \\\n",
    "                                temp.temp_Addresses \\\n",
    "                                  WHERE u_country_code = 'CA'  \"\n",
    "phone_numbers = connection.cursor().execute(phone_sql).fetchall()\n",
    "for phone_number in phone_numbers:\n",
    "    #print(phone_number[0])\n",
    "    pattern = generate_pattern(str(phone_number[0]))\n",
    "    #print(pattern)\n",
    "\n",
    "    if pattern in pattern_counts:\n",
    "        pattern_counts[pattern] += 1\n",
    "    else:\n",
    "        pattern_counts[pattern] = 1\n",
    "data = {'Pattern': [], 'Count': []}\n",
    "\n",
    "for pattern, count in pattern_counts.items():\n",
    "    #formatted_pattern = re.sub(r'm+', 'm', pattern)  # Replace consecutive 'm's with a single 'm'\n",
    "    data['Pattern'].append(pattern)\n",
    "    data['Count'].append(count)\n",
    "\n",
    "df = pd.DataFrame(data)\n",
    "print(df)\n",
    "df.to_csv('CA_TEMPaddress_postal_code.csv', index=False)"
   ]
  },
  {
   "cell_type": "code",
   "execution_count": null,
   "id": "06925424-f649-4ce3-a92c-841dad17d49c",
   "metadata": {
    "tags": []
   },
   "outputs": [],
   "source": [
    "!pip install phonenumbers"
   ]
  },
  {
   "cell_type": "code",
   "execution_count": null,
   "id": "d6b8aebd-c956-4099-8ba9-ca7fefd8556b",
   "metadata": {
    "tags": []
   },
   "outputs": [],
   "source": [
    "!pip install --upgrade phonenumbers"
   ]
  },
  {
   "cell_type": "code",
   "execution_count": null,
   "id": "894e650e-7aa3-4207-b78a-5bc24285e1ae",
   "metadata": {
    "tags": []
   },
   "outputs": [],
   "source": [
    "import phonenumbers\n",
    "import pandas as pd\n",
    "phone_sql = f\"SELECT top 200000  u_postal_code FROM \\\n",
    "                                accounts.Addresses \\\n",
    "                                  WHERE dt_date_created > = DATEADD(YEAR,-2,GETDATE()) and u_country_code = 'CA' \"\n",
    "phone_numberss = connection.cursor().execute(phone_sql).fetchall()\n",
    "\n",
    "\n",
    "invalid_count = 0\n",
    "valid_count = 0\n",
    "invalid_phones =[]\n",
    "for phone_number in phone_numberss:\n",
    "    z = phonenumbers.parse(phone_number[0], 'CA')\n",
    "    #print(z)\n",
    "    if phonenumbers.is_valid_number(z): \n",
    "        valid_count = valid_count+1\n",
    "    else: \n",
    "        c = phonenumbers.parse(phone_number[0], 'US')\n",
    "        if phonenumbers.is_valid_number(c): \n",
    "           valid_count = valid_count+1\n",
    "        else:\n",
    "           invalid_count = invalid_count+1\n",
    "           invalid_phones.append(phone_number[0])\n",
    "        \n",
    "print(invalid_phones) \n",
    "#xyz = ['a','b', 'c','a']\n",
    "df = pd.DataFrame(invalid_phones, columns=['invalid_phone'])\n",
    "print(df)\n",
    "df.to_csv('inavlidphn.csv', index=False)\n",
    "\n",
    "# Perform a group-by operation and count occurrences\n",
    "grouped_df = df.groupby('invalid_phone').size().reset_index(name='Count')\n",
    "\n",
    "# Sort the DataFrame by the count column in descending order\n",
    "sorted_df = grouped_df.sort_values(by='Count', ascending=False)\n",
    "\n",
    "# Print the sorted DataFrame\n",
    "print(sorted_df)\n",
    "sorted_df.to_csv('invalid_phone_frequency.csv', index=False)\n"
   ]
  },
  {
   "cell_type": "code",
   "execution_count": null,
   "id": "c0fa2bf1-45bd-4353-bebd-331fe3649dd1",
   "metadata": {
    "tags": []
   },
   "outputs": [],
   "source": [
    "print(df)\n"
   ]
  },
  {
   "cell_type": "code",
   "execution_count": null,
   "id": "b154d776-6f95-4500-87c9-1d0edbdaf09f",
   "metadata": {
    "tags": []
   },
   "outputs": [],
   "source": [
    "print(invalid_count)"
   ]
  },
  {
   "cell_type": "code",
   "execution_count": null,
   "id": "9fb4583c-ad29-48c8-8aa3-18ce9860b7dc",
   "metadata": {},
   "outputs": [],
   "source": [
    "for phone_number in invalid_phones:\n",
    "    z = phonenumbers.parse(phone_number, 'CA')\n",
    "    print(\"Phone CA:\",phone_number, z)\n",
    "    if phonenumbers.is_valid_number(z): \n",
    "        valid_count = valid_count+1\n",
    "    else: \n",
    "        print(\"phone US: \",phone_number, c)\n",
    "        c = phonenumbers.parse(phone_number, 'US')\n",
    "        if phonenumbers.is_valid_number(c): \n",
    "           valid_count = valid_count+1\n",
    "        else:\n",
    "           invalid_count = invalid_count+1\n",
    "           invalid_phones.append(phone_number[0])"
   ]
  },
  {
   "cell_type": "code",
   "execution_count": null,
   "id": "340dc4c6-4215-460e-b64c-5cdd65f416cb",
   "metadata": {},
   "outputs": [],
   "source": []
  }
 ],
 "metadata": {
  "kernelspec": {
   "display_name": "Python 3 (ipykernel)",
   "language": "python",
   "name": "python3"
  },
  "language_info": {
   "codemirror_mode": {
    "name": "ipython",
    "version": 3
   },
   "file_extension": ".py",
   "mimetype": "text/x-python",
   "name": "python",
   "nbconvert_exporter": "python",
   "pygments_lexer": "ipython3",
   "version": "3.11.5"
  }
 },
 "nbformat": 4,
 "nbformat_minor": 5
}
